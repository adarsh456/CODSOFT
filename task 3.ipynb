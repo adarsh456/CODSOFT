{
 "cells": [
  {
   "cell_type": "markdown",
   "id": "80b46f67-fc30-43e6-bda8-c324a07fb77f",
   "metadata": {},
   "source": [
    "### Iris flowers classification"
   ]
  },
  {
   "cell_type": "code",
   "execution_count": 110,
   "id": "03b4bdac-0e8c-4e84-a38d-5e5268cae9d2",
   "metadata": {},
   "outputs": [],
   "source": [
    "#import library and load the data\n",
    "import pandas as pd\n",
    "from sklearn.datasets import load_iris\n",
    "\n",
    "iris = load_iris()\n",
    "\n",
    "df = pd.DataFrame(iris.data, columns=iris.feature_names)\n",
    "\n",
    "df['species'] = iris.target\n"
   ]
  },
  {
   "cell_type": "code",
   "execution_count": 111,
   "id": "7c4fcdd9-79fe-4b1d-9831-c4030ac767a2",
   "metadata": {},
   "outputs": [
    {
     "name": "stdout",
     "output_type": "stream",
     "text": [
      "Unique target values: ['setosa' 'versicolor' 'virginica']\n"
     ]
    }
   ],
   "source": [
    "#provide numerical value to species names\n",
    "mapping = {0: 'setosa', 1: 'versicolor', 2: 'virginica'}\n",
    "df['species'] = df['species'].map(mapping)\n",
    "\n",
    "print(\"Unique target values:\", df['species'].unique())"
   ]
  },
  {
   "cell_type": "code",
   "execution_count": 112,
   "id": "c426cd59-82d0-4a49-8a95-81bef2e9214e",
   "metadata": {},
   "outputs": [],
   "source": [
    "# provide the features and target variable \n",
    "from sklearn.preprocessing import StandardScaler\n",
    "\n",
    "X = iris.data\n",
    "y = iris.target\n",
    "\n",
    "scaler = StandardScaler()\n",
    "X_scaled = scaler.fit_transform(X)\n"
   ]
  },
  {
   "cell_type": "code",
   "execution_count": 113,
   "id": "43325496-5c5e-4ed3-aed2-950e4ba96cad",
   "metadata": {},
   "outputs": [],
   "source": [
    "#splitting the data\n",
    "from sklearn.model_selection import train_test_split\n",
    "\n",
    "X_train, X_test, y_train, y_test = train_test_split(X, y, test_size=0.2, random_state=20)"
   ]
  },
  {
   "cell_type": "code",
   "execution_count": 114,
   "id": "3b753e4d-1789-4989-8093-6bea7b9de905",
   "metadata": {},
   "outputs": [
    {
     "name": "stdout",
     "output_type": "stream",
     "text": [
      "Accuracy: 0.9\n"
     ]
    }
   ],
   "source": [
    "# here we use the Random forestclassifier to training the model\n",
    "from sklearn.ensemble import RandomForestClassifier\n",
    "from sklearn.metrics import accuracy_score\n",
    "\n",
    "clf = RandomForestClassifier(n_estimators=100, random_state=42)\n",
    "clf.fit(X_train, y_train)\n",
    "\n",
    "y_pred = clf.predict(X_test)\n",
    "\n",
    "accuracy = accuracy_score(y_test, y_pred)\n",
    "print('Accuracy:',accuracy)\n"
   ]
  },
  {
   "cell_type": "code",
   "execution_count": 115,
   "id": "2022b0f5-9a32-437d-bcf2-57b54513c55c",
   "metadata": {},
   "outputs": [
    {
     "name": "stdout",
     "output_type": "stream",
     "text": [
      "Confusion Matrix:\n",
      "[[ 8  0  0]\n",
      " [ 0 11  0]\n",
      " [ 0  3  8]]\n",
      "\n",
      "Classification Report:\n",
      "              precision    recall  f1-score   support\n",
      "\n",
      "           0       1.00      1.00      1.00         8\n",
      "           1       0.79      1.00      0.88        11\n",
      "           2       1.00      0.73      0.84        11\n",
      "\n",
      "    accuracy                           0.90        30\n",
      "   macro avg       0.93      0.91      0.91        30\n",
      "weighted avg       0.92      0.90      0.90        30\n",
      "\n"
     ]
    }
   ],
   "source": [
    "#evaluate the model\n",
    "from sklearn.metrics import classification_report, confusion_matrix\n",
    "\n",
    "print(\"Confusion Matrix:\")\n",
    "print(confusion_matrix(y_test, y_pred))\n",
    "\n",
    "print(\"\\nClassification Report:\")\n",
    "print(classification_report(y_test, y_pred))\n"
   ]
  },
  {
   "cell_type": "code",
   "execution_count": 116,
   "id": "f5bc6100-08fd-4673-a1e5-155e198d96c5",
   "metadata": {},
   "outputs": [
    {
     "name": "stderr",
     "output_type": "stream",
     "text": [
      "C:\\Users\\adars\\AppData\\Local\\Programs\\Python\\Python312\\Lib\\site-packages\\sklearn\\base.py:486: UserWarning: X has feature names, but StandardScaler was fitted without feature names\n",
      "  warnings.warn(\n"
     ]
    }
   ],
   "source": [
    "#Predictions on New Data\n",
    "\n",
    "import pandas as pd\n",
    "\n",
    "new_sample = [[5.1, 3.5, 1.4, 0.2]]\n",
    "new_sample_df = pd.DataFrame(new_sample, columns=iris.feature_names)\n",
    "new_sample_scaled = scaler.transform(new_sample_df)\n"
   ]
  },
  {
   "cell_type": "code",
   "execution_count": 117,
   "id": "faf6838f-f503-413f-9f5b-abc947c51dae",
   "metadata": {},
   "outputs": [
    {
     "name": "stdout",
     "output_type": "stream",
     "text": [
      "Predicted species: setosa\n"
     ]
    }
   ],
   "source": [
    "predicted_label = clf.predict(new_sample_scaled)[0]\n",
    "predicted_species = iris.target_names[predicted_label]\n",
    "print(f'Predicted species: {predicted_species}')\n"
   ]
  },
  {
   "cell_type": "code",
   "execution_count": null,
   "id": "7060a96f-40cf-49ed-b31f-963ceed36656",
   "metadata": {},
   "outputs": [],
   "source": []
  }
 ],
 "metadata": {
  "kernelspec": {
   "display_name": "Python 3 (ipykernel)",
   "language": "python",
   "name": "python3"
  },
  "language_info": {
   "codemirror_mode": {
    "name": "ipython",
    "version": 3
   },
   "file_extension": ".py",
   "mimetype": "text/x-python",
   "name": "python",
   "nbconvert_exporter": "python",
   "pygments_lexer": "ipython3",
   "version": "3.12.6"
  }
 },
 "nbformat": 4,
 "nbformat_minor": 5
}
